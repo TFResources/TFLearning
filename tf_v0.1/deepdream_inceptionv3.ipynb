{
 "cells": [
  {
   "cell_type": "code",
   "execution_count": 4,
   "metadata": {
    "collapsed": false,
    "deletable": true,
    "editable": true
   },
   "outputs": [
    {
     "data": {
      "image/jpeg": "[encoded data removed]",
      "text/plain": [
       "<IPython.core.display.Image object>"
      ]
     },
     "metadata": {},
     "output_type": "display_data"
    }
   ],
   "source": [
    "from __future__ import print_function\n",
    "import os\n",
    "from io import BytesIO\n",
    "import numpy as np\n",
    "from functools import partial\n",
    "import PIL.Image\n",
    "from IPython.display import clear_output, Image, display, HTML\n",
    "\n",
    "import tensorflow as tf\n",
    "\n",
    "MODEL_DIR = \"../../tmp/imagenet/\"\n",
    "\n",
    "image = os.path.join(MODEL_DIR, 'cropped_panda.jpg')\n",
    "\n",
    "display(Image(image))"
   ]
  },
  {
   "cell_type": "code",
   "execution_count": 5,
   "metadata": {
    "collapsed": false,
    "deletable": true,
    "editable": true
   },
   "outputs": [],
   "source": [
    "def create_graph():\n",
    "  \"\"\"Creates a graph from saved GraphDef file and returns a saver.\"\"\"\n",
    "  # Creates graph from saved graph_def.pb.\n",
    "  with tf.gfile.FastGFile(os.path.join(\n",
    "      MODEL_DIR, 'classify_image_graph_def.pb'), 'rb') as f:\n",
    "    graph_def = tf.GraphDef()\n",
    "    graph_def.ParseFromString(f.read())\n",
    "    _ = tf.import_graph_def(graph_def, name='')\n",
    "\n",
    "create_graph()"
   ]
  },
  {
   "cell_type": "code",
   "execution_count": 11,
   "metadata": {
    "collapsed": false,
    "deletable": true,
    "editable": true
   },
   "outputs": [
    {
     "name": "stdout",
     "output_type": "stream",
     "text": [
      "[[[ 0.50504398  0.63588464  0.29835746]\n",
      "  [ 0.17330708  0.12650244  0.14368619]\n",
      "  [-0.65657198 -0.81724554 -0.38719007]]\n",
      "\n",
      " [[ 0.62418926  0.76585162  0.34903738]\n",
      "  [ 0.07726436  0.05995356  0.09628339]\n",
      "  [-0.85024583 -0.96480691 -0.50737208]]\n",
      "\n",
      " [[ 0.13164113  0.15118749 -0.01220882]\n",
      "  [ 0.02298364 -0.01118473 -0.0186027 ]\n",
      "  [ 0.00497579  0.01391865  0.02939422]]]\n"
     ]
    }
   ],
   "source": [
    "with tf.Session() as sess:\n",
    "    tensor_param = sess.graph.get_tensor_by_name('conv/conv2d_params:0')\n",
    "    _ = sess.run(tensor_param)\n",
    "    print(_[:,:,:,15])"
   ]
  },
  {
   "cell_type": "code",
   "execution_count": 8,
   "metadata": {
    "collapsed": false,
    "deletable": true,
    "editable": true
   },
   "outputs": [
    {
     "name": "stdout",
     "output_type": "stream",
     "text": [
      "Tensor(\"DecodeJpeg:0\", shape=(?, ?, 3), dtype=uint8)\n",
      "(100, 100, 3)\n"
     ]
    }
   ],
   "source": [
    "image_data = tf.gfile.FastGFile(image, 'rb').read()\n",
    "with tf.Session() as sess:\n",
    "    tensor_jpeg = sess.graph.get_tensor_by_name('DecodeJpeg:0')\n",
    "    print(tensor_jpeg)\n",
    "    _ = sess.run(tensor_jpeg, {'DecodeJpeg/contents:0': image_data})\n",
    "    print(_.shape)"
   ]
  },
  {
   "cell_type": "code",
   "execution_count": null,
   "metadata": {
    "collapsed": true,
    "deletable": true,
    "editable": true
   },
   "outputs": [],
   "source": []
  }
 ],
 "metadata": {
  "kernelspec": {
   "display_name": "Python 2",
   "language": "python",
   "name": "python2"
  },
  "language_info": {
   "codemirror_mode": {
    "name": "ipython",
    "version": 2
   },
   "file_extension": ".py",
   "mimetype": "text/x-python",
   "name": "python",
   "nbconvert_exporter": "python",
   "pygments_lexer": "ipython2",
   "version": "2.7.10"
  }
 },
 "nbformat": 4,
 "nbformat_minor": 0
}
