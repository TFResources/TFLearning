{
 "cells": [
  {
   "cell_type": "code",
   "execution_count": 1,
   "metadata": {
    "collapsed": false,
    "deletable": true,
    "editable": true
   },
   "outputs": [
    {
     "name": "stdout",
     "output_type": "stream",
     "text": [
      "Number of layers 59\n",
      "Total number of feature channels: 7548\n"
     ]
    }
   ],
   "source": [
    "# boilerplate code\n",
    "from __future__ import print_function\n",
    "import os\n",
    "from io import BytesIO\n",
    "import numpy as np\n",
    "from functools import partial\n",
    "import PIL.Image\n",
    "from IPython.display import clear_output, Image, display, HTML\n",
    "\n",
    "import tensorflow as tf\n",
    "\n",
    "\n",
    "model_fn = '../tmp/inception5h/tensorflow_inception_graph.pb'\n",
    "\n",
    "# creating TensorFlow session and loading the model\n",
    "graph = tf.Graph()\n",
    "sess = tf.InteractiveSession(graph=graph)\n",
    "with tf.gfile.FastGFile(model_fn, 'rb') as f:\n",
    "    graph_def = tf.GraphDef()\n",
    "    graph_def.ParseFromString(f.read())\n",
    "t_input = tf.placeholder(np.float32, name='input') # define the input tensor\n",
    "imagenet_mean = 117.0\n",
    "t_preprocessed = tf.expand_dims(t_input-imagenet_mean, 0)\n",
    "tf.import_graph_def(graph_def, {'input':t_preprocessed})\n",
    "\n",
    "layers = [op.name for op in graph.get_operations() if op.type == 'Conv2D' and 'import/' in op.name]\n",
    "feature_nums = [int(graph.get_tensor_by_name(name + ':0').get_shape()[-1]) for name in layers]\n",
    "\n",
    "print('Number of layers', len(layers))\n",
    "print('Total number of feature channels:', sum(feature_nums))\n",
    "\n",
    "\n",
    "# Helper functions for TF Graph visualization\n",
    "\n",
    "def strip_consts(graph_def, max_const_size=32):\n",
    "    \"\"\"Strip large constant values from graph_def.\"\"\"\n",
    "    strip_def = tf.GraphDef()\n",
    "    for n0 in graph_def.node:\n",
    "        n = strip_def.node.add()\n",
    "        n.MergeFrom(n0)\n",
    "        if n.op == 'Const':\n",
    "            tensor = n.attr['value'].tensor\n",
    "            size = len(tensor.tensor_content)\n",
    "            if size > max_const_size:\n",
    "                tensor.tensor_content = bytes(\"<stripped %d bytes>\" % size)\n",
    "    return strip_def\n",
    "\n",
    "\n",
    "def rename_nodes(graph_def, rename_func):\n",
    "    res_def = tf.GraphDef()\n",
    "    for n0 in graph_def.node:\n",
    "        n = res_def.node.add()\n",
    "        n.MergeFrom(n0)\n",
    "        n.name = rename_func(n.name)\n",
    "        for i, s in enumerate(n.input):\n",
    "            n.input[i] = rename_func(s) if s[0] != '^' else '^' + rename_func(s[1:])\n",
    "    return res_def"
   ]
  },
  {
   "cell_type": "code",
   "execution_count": 8,
   "metadata": {
    "collapsed": false,
    "deletable": true,
    "editable": true
   },
   "outputs": [
    {
     "data": {
      "image/jpeg": "[encoded data removed]",
      "text/plain": [
       "<IPython.core.display.Image object>"
      ]
     },
     "metadata": {},
     "output_type": "display_data"
    }
   ],
   "source": [
    "# Picking some internal layer. Note that we use outputs before applying the ReLU nonlinearity\n",
    "# to have non-zero gradients for features with negative initial activations.\n",
    "layer = 'mixed4d_3x3_bottleneck_pre_relu'\n",
    "channel = 10  # picking some feature channel to visualize\n",
    "\n",
    "# start with a gray image with a little noise\n",
    "img_noise = np.random.uniform(size=(224, 224, 3)) + 100.0\n",
    "\n",
    "\n",
    "def showarray(a, fmt='jpeg'):\n",
    "    a = np.uint8(np.clip(a, 0, 1) * 255)\n",
    "    f = BytesIO()\n",
    "    #f = \"deepdream_log/img_%s.%s\" % (int(time.time()), fmt)\n",
    "    PIL.Image.fromarray(a).save(f, fmt)\n",
    "    display(Image(data=f.getvalue()))\n",
    "\n",
    "\n",
    "def visstd(a, s=0.1):\n",
    "    '''Normalize the image range for visualization'''\n",
    "    return (a - a.mean()) / max(a.std(), 1e-4) * s + 0.5\n",
    "\n",
    "\n",
    "def T(layer):\n",
    "    '''Helper for getting layer output tensor'''\n",
    "    return graph.get_tensor_by_name(\"import/%s:0\" % layer)\n",
    "\n",
    "\n",
    "def render_naive(t_obj, img0=img_noise, iter_n=20, step=1.0):\n",
    "    t_score = tf.reduce_mean(t_obj)  # defining the optimization objective\n",
    "    t_grad = tf.gradients(t_score, t_input)[0]  # behold the power of automatic differentiation!\n",
    "\n",
    "    img = img0.copy()\n",
    "    for i in range(iter_n):\n",
    "        g, score = sess.run([t_grad, t_score], {t_input: img})\n",
    "        # normalizing the gradient, so the same step size should work\n",
    "        g /= g.std() + 1e-8  # for different layers and networks\n",
    "        img += g * step\n",
    "        print(score)\n",
    "    clear_output()\n",
    "    showarray(visstd(img))\n",
    "\n",
    "render_naive(T(layer)[:, :, :, channel])"
   ]
  },
  {
   "cell_type": "code",
   "execution_count": null,
   "metadata": {
    "collapsed": true
   },
   "outputs": [],
   "source": []
  }
 ],
 "metadata": {
  "kernelspec": {
   "display_name": "Python 2",
   "language": "python",
   "name": "python2"
  },
  "language_info": {
   "codemirror_mode": {
    "name": "ipython",
    "version": 2
   },
   "file_extension": ".py",
   "mimetype": "text/x-python",
   "name": "python",
   "nbconvert_exporter": "python",
   "pygments_lexer": "ipython2",
   "version": "2.7.10"
  }
 },
 "nbformat": 4,
 "nbformat_minor": 0
}
