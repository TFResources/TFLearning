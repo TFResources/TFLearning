{
 "cells": [
  {
   "cell_type": "code",
   "execution_count": 4,
   "metadata": {
    "collapsed": false,
    "deletable": true,
    "editable": true
   },
   "outputs": [
    {
     "data": {
      "image/jpeg": "[encoded data removed]",
      "text/plain": [
       "<IPython.core.display.Image object>"
      ]
     },
     "metadata": {},
     "output_type": "display_data"
    }
   ],
   "source": [
    "from __future__ import print_function\n",
    "import os\n",
    "from io import BytesIO\n",
    "import numpy as np\n",
    "from functools import partial\n",
    "import PIL.Image\n",
    "from IPython.display import clear_output, Image, display, HTML\n",
    "\n",
    "import tensorflow as tf\n",
    "\n",
    "MODEL_DIR = \"../../tmp/imagenet/\"\n",
    "\n",
    "image = os.path.join(MODEL_DIR, 'cropped_panda.jpg')\n",
    "\n",
    "display(Image(image))"
   ]
  },
  {
   "cell_type": "code",
   "execution_count": 5,
   "metadata": {
    "collapsed": false,
    "deletable": true,
    "editable": true
   },
   "outputs": [],
   "source": [
    "def create_graph():\n",
    "  \"\"\"Creates a graph from saved GraphDef file and returns a saver.\"\"\"\n",
    "  # Creates graph from saved graph_def.pb.\n",
    "  with tf.gfile.FastGFile(os.path.join(\n",
    "      MODEL_DIR, 'classify_image_graph_def.pb'), 'rb') as f:\n",
    "    graph_def = tf.GraphDef()\n",
    "    graph_def.ParseFromString(f.read())\n",
    "    _ = tf.import_graph_def(graph_def, name='')\n",
    "\n",
    "create_graph()"
   ]
  },
  {
   "cell_type": "code",
   "execution_count": 11,
   "metadata": {
    "collapsed": false,
    "deletable": true,
    "editable": true
   },
   "outputs": [
    {
     "name": "stdout",
     "output_type": "stream",
     "text": [
      "[[[ 0.50504398  0.63588464  0.29835746]\n",
      "  [ 0.17330708  0.12650244  0.14368619]\n",
      "  [-0.65657198 -0.81724554 -0.38719007]]\n",
      "\n",
      " [[ 0.62418926  0.76585162  0.34903738]\n",
      "  [ 0.07726436  0.05995356  0.09628339]\n",
      "  [-0.85024583 -0.96480691 -0.50737208]]\n",
      "\n",
      " [[ 0.13164113  0.15118749 -0.01220882]\n",
      "  [ 0.02298364 -0.01118473 -0.0186027 ]\n",
      "  [ 0.00497579  0.01391865  0.02939422]]]\n"
     ]
    }
   ],
   "source": [
    "with tf.Session() as sess:\n",
    "    tensor_param = sess.graph.get_tensor_by_name('conv/conv2d_params:0')\n",
    "    _ = sess.run(tensor_param)\n",
    "    print(_[:,:,:,15])"
   ]
  },
  {
   "cell_type": "code",
   "execution_count": 46,
   "metadata": {
    "collapsed": true,
    "deletable": true,
    "editable": true
   },
   "outputs": [],
   "source": [
    "def showImage(a, fmt='jpeg'):\n",
    "    a = np.uint8(np.clip(a, 0, 1) * 255)\n",
    "    f = BytesIO()\n",
    "    PIL.Image.fromarray(a).save(f, fmt)\n",
    "    display(Image(data = f.getvalue()))\n",
    "    \n",
    "def visstd(a, s=0.1):\n",
    "    '''Normalize the image range for visualization'''\n",
    "    return (a - a.mean()) / max(a.std(), 1e-4) * s + 0.5"
   ]
  },
  {
   "cell_type": "code",
   "execution_count": 52,
   "metadata": {
    "collapsed": false,
    "deletable": true,
    "editable": true
   },
   "outputs": [
    {
     "name": "stdout",
     "output_type": "stream",
     "text": [
      "Tensor(\"Mul:0\", shape=(1, 299, 299, 3), dtype=float32)\n",
      "[[[[-0.4296875  -0.4375     -0.46875   ]\n",
      "   [-0.42446172 -0.4270485  -0.46091139]\n",
      "   [-0.419236   -0.41659701 -0.45307273]\n",
      "   ..., \n",
      "   [ 0.37505221  0.61723971  0.78130221]\n",
      "   [ 0.375       0.6171875   0.78125   ]\n",
      "   [ 0.375       0.6171875   0.78125   ]]\n",
      "\n",
      "  [[-0.37481707 -0.38262957 -0.41387957]\n",
      "   [-0.37396067 -0.37829518 -0.41128421]\n",
      "   [-0.37310433 -0.37396079 -0.40868878]\n",
      "   ..., \n",
      "   [ 0.38026929  0.62245679  0.78651929]\n",
      "   [ 0.38022578  0.62241328  0.78647578]\n",
      "   [ 0.38022578  0.62241328  0.78647578]]\n",
      "\n",
      "  [[-0.31994671 -0.32775921 -0.35900921]\n",
      "   [-0.32345963 -0.32954186 -0.36165702]\n",
      "   [-0.32697266 -0.33132464 -0.36430484]\n",
      "   ..., \n",
      "   [ 0.38548625  0.62767375  0.79173625]\n",
      "   [ 0.38545156  0.62763906  0.79170156]\n",
      "   [ 0.38545156  0.62763906  0.79170156]]\n",
      "\n",
      "  ..., \n",
      "  [[-0.26559889  0.07815111 -0.11716139]\n",
      "   [-0.262986    0.08076394 -0.1145485 ]\n",
      "   [-0.26037312  0.08337688 -0.11193562]\n",
      "   ..., \n",
      "   [-0.14067686 -0.19536436 -0.39848936]\n",
      "   [-0.14059889 -0.19528639 -0.39841139]\n",
      "   [-0.14059889 -0.19528639 -0.39841139]]\n",
      "\n",
      "  [[-0.265625    0.078125   -0.1171875 ]\n",
      "   [-0.26301211  0.08073783 -0.11457461]\n",
      "   [-0.26039922  0.08335078 -0.11196172]\n",
      "   ..., \n",
      "   [-0.14070332 -0.19539082 -0.39851582]\n",
      "   [-0.140625   -0.1953125  -0.3984375 ]\n",
      "   [-0.140625   -0.1953125  -0.3984375 ]]\n",
      "\n",
      "  [[-0.265625    0.078125   -0.1171875 ]\n",
      "   [-0.26301211  0.08073783 -0.11457461]\n",
      "   [-0.26039922  0.08335078 -0.11196172]\n",
      "   ..., \n",
      "   [-0.14070332 -0.19539082 -0.39851582]\n",
      "   [-0.140625   -0.1953125  -0.3984375 ]\n",
      "   [-0.140625   -0.1953125  -0.3984375 ]]]]\n"
     ]
    }
   ],
   "source": [
    "image_data = tf.gfile.FastGFile(image, 'rb').read()\n",
    "with tf.Session() as sess:\n",
    "    tensor_jpeg = sess.graph.get_tensor_by_name('Mul:0')\n",
    "    print(tensor_jpeg)\n",
    "    _ = sess.run(tensor_jpeg, {'DecodeJpeg/contents:0': image_data})\n",
    "    \n",
    "    print(_)\n",
    "    \n",
    "    #for i in range(32):\n",
    "        #showImage(visstd(_[0, :, :, i]))\n",
    "    "
   ]
  },
  {
   "cell_type": "code",
   "execution_count": null,
   "metadata": {
    "collapsed": true
   },
   "outputs": [],
   "source": []
  }
 ],
 "metadata": {
  "kernelspec": {
   "display_name": "Python 2",
   "language": "python",
   "name": "python2"
  },
  "language_info": {
   "codemirror_mode": {
    "name": "ipython",
    "version": 2
   },
   "file_extension": ".py",
   "mimetype": "text/x-python",
   "name": "python",
   "nbconvert_exporter": "python",
   "pygments_lexer": "ipython2",
   "version": "2.7.10"
  }
 },
 "nbformat": 4,
 "nbformat_minor": 0
}
